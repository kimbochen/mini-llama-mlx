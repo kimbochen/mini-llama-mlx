{
 "cells": [
  {
   "cell_type": "code",
   "execution_count": 23,
   "id": "484284e2-d53e-49d0-ae79-f851fcde4aa5",
   "metadata": {},
   "outputs": [
    {
     "data": {
      "text/plain": [
       "27571"
      ]
     },
     "execution_count": 23,
     "metadata": {},
     "output_type": "execute_result"
    }
   ],
   "source": [
    "from pathlib import Path\n",
    "import mlx.core as mx\n",
    "\n",
    "train_data_dir = Path('./wikitext_data/train')\n",
    "train_examples = []\n",
    "\n",
    "for ex_path in sorted(train_data_dir.glob('*.npz')):\n",
    "    train_examples.extend(mx.load(str(ex_path)).values())\n",
    "\n",
    "len(train_examples)"
   ]
  },
  {
   "cell_type": "code",
   "execution_count": 37,
   "id": "57d669c6-a43c-4f00-a7d9-6421e82ca415",
   "metadata": {},
   "outputs": [],
   "source": [
    "seq_len = 512\n",
    "blk_size = seq_len + 1\n",
    "train_examples_pad = []\n",
    "\n",
    "for example in train_examples:\n",
    "    example_pad = mx.pad(example, pad_width=[0, blk_size-example.size%blk_size], constant_values=0)\n",
    "    train_examples_pad.append(example_pad)"
   ]
  },
  {
   "cell_type": "code",
   "execution_count": null,
   "id": "e8db1ce2-ad6f-4190-b707-3e8d6d1bd90e",
   "metadata": {},
   "outputs": [],
   "source": [
    "from pathlib import Path\n",
    "import mlx.core as mx\n",
    "\n",
    "class WikiTextDataLoader:\n",
    "    def __init__(self, bsz, seq_len, pad_token_id):\n",
    "        train_data_dir = Path('./wikitext_data/train')\n",
    "        train_examples = []\n",
    "        for ex_path in sorted(train_data_dir.glob('*.npz')):\n",
    "            train_examples.extend(mx.load(str(ex_path)).values())\n",
    "    \n",
    "        blk_size = seq_len + 1\n",
    "        pad_example = lambda ex: mx.pad(ex, [0, blk_size - ex.size % blk_size], pad_token_id)\n",
    "        train_examples = [*map(pad_example, train_examples)]\n",
    "        self.train_examples = mx.concatenate(train_examples, axis=0)\n",
    "\n",
    "        self.bsz = bsz\n",
    "        self.blk_size = blk_size\n",
    "        self.bblk_size = bsz * blk_size  # Batch block size\n",
    "        self.total_batches = len(self.train_examples) - blk_size + 1\n",
    "\n",
    "    def __len__(self):\n",
    "        return self.total_batches\n",
    "\n",
    "    def __getitem__(self, idx):\n",
    "        batch_block = self.train_examples[i:i+self.bblk_size]\n",
    "        batch_block = batch_block.reshape([self.bsz, self.blk_size])\n",
    "        return batch_block[:, :-1], batch_block[:, 1:]\n",
    "\n",
    "    def __iter__(self):\n",
    "        for i in range(self.total_batches):\n",
    "            yield self[i]\n",
    "\n",
    "dataloader = WikiTextDataLoader(4, 512, 0)\n",
    "xb, yb = next(dataloader)"
   ]
  },
  {
   "cell_type": "code",
   "execution_count": 1,
   "id": "a268fccf-14f6-486a-8d30-c728953fad0e",
   "metadata": {},
   "outputs": [],
   "source": [
    "from pathlib import Path\n",
    "import mlx.core as mx\n",
    "\n",
    "def config_dataloader(bsz, seq_len, pad_token_id):\n",
    "    train_data_dir = Path('./wikitext_data/train')\n",
    "    train_examples = []\n",
    "    for ex_path in sorted(train_data_dir.glob('*.npz')):\n",
    "        train_examples.extend(mx.load(str(ex_path)).values())\n",
    "\n",
    "    blk_size = seq_len + 1\n",
    "    pad_example = lambda ex: mx.pad(ex, [0, blk_size - ex.size % blk_size], pad_token_id)\n",
    "    train_examples = [*map(pad_example, train_examples)]\n",
    "    train_examples = mx.concatenate(train_examples, axis=0)\n",
    "\n",
    "    bblk_size = bsz * blk_size  # Batch block size\n",
    "    n_batches = len(train_examples) - blk_size + 1\n",
    "\n",
    "    def load_data_():\n",
    "        for i in range(n_batches):\n",
    "            bblk = train_examples[i:i+bblk_size].reshape([bsz, blk_size])\n",
    "            yield bblk[:, :-1], bblk[:, 1:]\n",
    "\n",
    "    return load_data_\n",
    "\n",
    "load_data = config_dataloader(4, 512, 0)\n",
    "data_iter = iter(load_data())\n",
    "xb, yb = next(data_iter)"
   ]
  },
  {
   "cell_type": "code",
   "execution_count": 2,
   "id": "dc2e878f-ee8b-4104-a9c4-bb07e653350c",
   "metadata": {},
   "outputs": [],
   "source": [
    "from sentencepiece import SentencePieceProcessor\n",
    "\n",
    "sp_model = SentencePieceProcessor(model_file='tokenizer.model')"
   ]
  },
  {
   "cell_type": "code",
   "execution_count": 3,
   "id": "65cc4a3c-4f23-43b4-ae0d-fde2a4c714a2",
   "metadata": {},
   "outputs": [
    {
     "data": {
      "text/plain": [
       "\"\\n Mathews was decorated by several governments , receiving appointments as a Companion of the Order of St Michael and St George , Companion of the Order of the Bath and as a Knight Commander of the Order of St Michael and St George from the British government and membership in the Prussian Order of the Crown . Zanzibar also rewarded him and he was a member of the Grand Order of Hamondieh and a first class member of the Order of the Brilliant Star of Zanzibar . Mathews died of malaria in Zanzibar on 11 October 1901 . \\n = = Early life and career = = \\n Mathews was born at Funchal on Madeira on 7 March 1850 . His father , Captain William Matthews was Welsh , and his mother Jane Wallis Penfold , was the daughter of William Penfold and Sarah Gilbert . Her sister , Augusta Jane Robley née Penfold was the author of a famous book about the flora and fauna of Madeira , which is now in the Natural History Museum . Mathews became a cadet of the Royal Navy in 1863 and was appointed a midshipman on 23 September 1866 . From 1868 he was stationed in the Mediterranean but his first active service was during the Third Anglo @-@ Ashanti War of 1873 – 4 where he qualified for the campaign medal . He was promoted to lieutenant on 31 March 1874 . On 27 August 1875 Mathews was posted to HMS London , a depot ship and the Royal Navy headquarters for East Africa , to assist in the suppression of the slave trade in the area . Whilst onboard he drilled his own troops , captured several slave dhows and was commended for his actions by the Admiralty . \\n = = Commander in Chief of Zanzibar = = \\n In August 1877 , Mathews was seconded from the Navy to Sultan Barghash of Zanzibar to form a European @-@ style army which could be used to enforce Zanzibar 's control over its mainland possessions . The army had traditionally been composed entirely of Arabs and Persians but Mathews opened up recruitment to\""
      ]
     },
     "execution_count": 3,
     "metadata": {},
     "output_type": "execute_result"
    }
   ],
   "source": [
    "sp_model.decode(xb[1, :].tolist())"
   ]
  },
  {
   "cell_type": "code",
   "execution_count": 4,
   "id": "fa0b7e45-e014-41e2-96c9-a5d429c51e74",
   "metadata": {},
   "outputs": [
    {
     "data": {
      "text/plain": [
       "'the'"
      ]
     },
     "execution_count": 4,
     "metadata": {},
     "output_type": "execute_result"
    }
   ],
   "source": [
    "sp_model.decode(yb[1].tolist())"
   ]
  },
  {
   "cell_type": "code",
   "execution_count": 5,
   "id": "097645a2-00e3-4896-be66-9d8a1069d5f0",
   "metadata": {},
   "outputs": [],
   "source": [
    "xb, yb = next(data_iter)"
   ]
  },
  {
   "cell_type": "code",
   "execution_count": 6,
   "id": "fbe74dbf-a972-49f8-a48c-96bedf096494",
   "metadata": {},
   "outputs": [
    {
     "data": {
      "text/plain": [
       "\"Mathews was decorated by several governments , receiving appointments as a Companion of the Order of St Michael and St George , Companion of the Order of the Bath and as a Knight Commander of the Order of St Michael and St George from the British government and membership in the Prussian Order of the Crown . Zanzibar also rewarded him and he was a member of the Grand Order of Hamondieh and a first class member of the Order of the Brilliant Star of Zanzibar . Mathews died of malaria in Zanzibar on 11 October 1901 . \\n = = Early life and career = = \\n Mathews was born at Funchal on Madeira on 7 March 1850 . His father , Captain William Matthews was Welsh , and his mother Jane Wallis Penfold , was the daughter of William Penfold and Sarah Gilbert . Her sister , Augusta Jane Robley née Penfold was the author of a famous book about the flora and fauna of Madeira , which is now in the Natural History Museum . Mathews became a cadet of the Royal Navy in 1863 and was appointed a midshipman on 23 September 1866 . From 1868 he was stationed in the Mediterranean but his first active service was during the Third Anglo @-@ Ashanti War of 1873 – 4 where he qualified for the campaign medal . He was promoted to lieutenant on 31 March 1874 . On 27 August 1875 Mathews was posted to HMS London , a depot ship and the Royal Navy headquarters for East Africa , to assist in the suppression of the slave trade in the area . Whilst onboard he drilled his own troops , captured several slave dhows and was commended for his actions by the Admiralty . \\n = = Commander in Chief of Zanzibar = = \\n In August 1877 , Mathews was seconded from the Navy to Sultan Barghash of Zanzibar to form a European @-@ style army which could be used to enforce Zanzibar 's control over its mainland possessions . The army had traditionally been composed entirely of Arabs and Persians but Mathews opened up recruitment to the\""
      ]
     },
     "execution_count": 6,
     "metadata": {},
     "output_type": "execute_result"
    }
   ],
   "source": [
    "sp_model.decode(xb[1, :].tolist())"
   ]
  },
  {
   "cell_type": "code",
   "execution_count": 7,
   "id": "6130ee57-0c3b-4627-8929-8ddbb12c6c36",
   "metadata": {},
   "outputs": [
    {
     "data": {
      "text/plain": [
       "'African'"
      ]
     },
     "execution_count": 7,
     "metadata": {},
     "output_type": "execute_result"
    }
   ],
   "source": [
    "sp_model.decode(yb[1].tolist())"
   ]
  },
  {
   "cell_type": "code",
   "execution_count": 8,
   "id": "78aecf30-0b01-4791-b9bf-21ea795363e9",
   "metadata": {},
   "outputs": [
    {
     "name": "stdout",
     "output_type": "stream",
     "text": [
      "array([[314, 869, 910, ..., 408, 263, 937],\n",
      "       [4509, 310, 278, ..., 17517, 869, 5345],\n",
      "       [5652, 525, 9213, ..., 4096, 747, 279],\n",
      "       [278, 4908, 5874, ..., 13, 2, 0]], dtype=uint16)\n",
      "am . This dhow had around 100 slaves on board and was transporting them between Pemba and Zanzibar . Captain Brownrigg led a boarding party to release the slaves but bin Hattam 's men then attacked the sailors , killing Brownrigg and his party before sailing away . Mathews led a force to Wete on Pemba and , after a short battle , took a mortally wounded bin Hattem prisoner before returning to Zanzibar . \n",
      " Mathews returned to the African mainland territories once more in 1884 when he landed with a force which intended to establish further garrisons there to dissuade German territorial claims . This attempt ultimately failed when five German warships steamed into Zanzibar Town harbour and threatened the Sultan into signing away the territories which would later form German East Africa . Further territories were ceded to the German East Africa Company in 1888 but unrest amongst the locals against them prevented them from taking control and Mathews was dispatched with 100 men to restore order . Finding around 8 @,@ 000 people gathered against the German administrators Mathews was forced to return with his men to Zanzibar . He landed once again with more troops but found himself subject to death threats and that his troops would not obey his orders and so returned again to Zanzibar . \n",
      " = = First Minister = = \n",
      " In October 1891 , upon the formation of the first constitutional government in Zanzibar , Mathews was appointed First Minister , despite some hostility from Sultan Ali bin Said . In this capacity Mathews was \" irremovable by the sultan \" and answerable only to the Sultan and the British Consul . His position was so strong that one missionary on the island is quoted as saying that his powers defied \" analytical examination \" and that Mathews really could say \" L 'état est moi \" ( I am the state ) . Mathews was also known as the \" Strong man of Zanzibar \" . The principal departments of government were mostly run by Britons or British Indians and Mathews ' approval was required before they could be removed from office . Mathews was rewarded by the Zanzibar government for his role with his appointment as a first\n"
     ]
    }
   ],
   "source": [
    "for xb, _ in load_data():\n",
    "    if mx.any(xb == 0):\n",
    "        print(xb)\n",
    "        print(sp_model.decode(xb[0, :].tolist()))\n",
    "        break"
   ]
  }
 ],
 "metadata": {
  "kernelspec": {
   "display_name": "Python 3 (ipykernel)",
   "language": "python",
   "name": "python3"
  },
  "language_info": {
   "codemirror_mode": {
    "name": "ipython",
    "version": 3
   },
   "file_extension": ".py",
   "mimetype": "text/x-python",
   "name": "python",
   "nbconvert_exporter": "python",
   "pygments_lexer": "ipython3",
   "version": "3.11.6"
  }
 },
 "nbformat": 4,
 "nbformat_minor": 5
}
