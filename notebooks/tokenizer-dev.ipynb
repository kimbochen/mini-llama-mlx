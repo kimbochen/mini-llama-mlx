{
 "cells": [
  {
   "cell_type": "code",
   "execution_count": 1,
   "id": "c49fc27f-7d34-411e-8853-c75ae7686ee7",
   "metadata": {},
   "outputs": [],
   "source": [
    "from datasets import load_dataset\n",
    "\n",
    "dataset = load_dataset('wikitext', 'wikitext-103-v1')"
   ]
  },
  {
   "cell_type": "markdown",
   "id": "d1e55629-9cb5-4aa1-813b-2053ac22d2e3",
   "metadata": {},
   "source": [
    "- Concatenate every title with the following paragraphs until the next title\n",
    "- One training example: `BOS + TITLE + PARAGRAPHS + EOS`"
   ]
  },
  {
   "cell_type": "code",
   "execution_count": 2,
   "id": "268c08af-a00b-408a-b439-971f42a0f78e",
   "metadata": {},
   "outputs": [
    {
     "data": {
      "text/plain": [
       "' = Valkyria Chronicles III = \\n'"
      ]
     },
     "execution_count": 2,
     "metadata": {},
     "output_type": "execute_result"
    }
   ],
   "source": [
    "train_text = dataset['train']['text']\n",
    "train_text[1]"
   ]
  },
  {
   "cell_type": "code",
   "execution_count": 206,
   "id": "b79d96a2-bf86-4ec2-bc98-86f831b9f9b3",
   "metadata": {},
   "outputs": [
    {
     "data": {
      "text/plain": [
       "True"
      ]
     },
     "execution_count": 206,
     "metadata": {},
     "output_type": "execute_result"
    }
   ],
   "source": [
    "def is_title(text):\n",
    "    has_format = (text[:3] == ' = ' and text[-4:] == ' = \\n')\n",
    "    return has_format and text[3].isupper()\n",
    "\n",
    "is_title(train_text[1])"
   ]
  },
  {
   "cell_type": "code",
   "execution_count": 207,
   "id": "1ab8d67a-69de-425f-9d3c-f76b9f240285",
   "metadata": {},
   "outputs": [],
   "source": [
    "examples = []\n",
    "example = train_text[1]  # train_text[0] is emtpy\n",
    "\n",
    "for text in train_text[2:]:\n",
    "    if is_title(text):\n",
    "        examples.append(example)\n",
    "        example = text\n",
    "    else:\n",
    "        example += text"
   ]
  },
  {
   "cell_type": "code",
   "execution_count": 208,
   "id": "a04d4e82-bb41-4904-9f87-d8e4313af396",
   "metadata": {},
   "outputs": [
    {
     "data": {
      "text/plain": [
       "27571"
      ]
     },
     "execution_count": 208,
     "metadata": {},
     "output_type": "execute_result"
    }
   ],
   "source": [
    "len(examples)"
   ]
  },
  {
   "cell_type": "code",
   "execution_count": null,
   "id": "d45a36a4-95a1-442d-889c-220ee878875c",
   "metadata": {},
   "outputs": [],
   "source": [
    "ex_idxs = sorted(range(len(examples)), key=lambda i: len(examples[i]))"
   ]
  },
  {
   "cell_type": "code",
   "execution_count": 232,
   "id": "edb6245d-78f2-461c-9dd9-7e22153b8dbb",
   "metadata": {},
   "outputs": [
    {
     "name": "stdout",
     "output_type": "stream",
     "text": [
      " = Rank in the league ; P = \n",
      " Played ; W \n",
      "  = Win ; D = \n",
      " Draw ; L \n",
      "  = Loss ; F = \n",
      " Goals for ; A \n",
      "\n"
     ]
    }
   ],
   "source": [
    "i = 0\n",
    "print(*examples[ex_idxs[i]-1:ex_idxs[i]+2])"
   ]
  },
  {
   "cell_type": "code",
   "execution_count": 233,
   "id": "fee2a5e5-b634-40a9-a67a-2699cfda5527",
   "metadata": {
    "scrolled": true
   },
   "outputs": [
    {
     "data": {
      "application/vnd.jupyter.widget-view+json": {
       "model_id": "6fab455a10754de69826cd991f419c4e",
       "version_major": 2,
       "version_minor": 0
      },
      "text/plain": [
       "  0%|          | 0/27571 [00:00<?, ?it/s]"
      ]
     },
     "metadata": {},
     "output_type": "display_data"
    }
   ],
   "source": [
    "import mlx.core as mx\n",
    "from tqdm.notebook import tqdm\n",
    "from sentencepiece import SentencePieceProcessor\n",
    "\n",
    "sp_model = SentencePieceProcessor(model_file='tokenizer.model')\n",
    "\n",
    "def encode(text):\n",
    "    tokens = sp_model.encode(text, add_bos=True, add_eos=True)\n",
    "    token_arr = mx.array(tokens, dtype=mx.uint16)\n",
    "    return token_arr\n",
    "\n",
    "train_tokens = [encode(example) for example in tqdm(examples)]"
   ]
  },
  {
   "cell_type": "code",
   "execution_count": 234,
   "id": "14528749-103f-49e7-aa4a-92d4b9481e2f",
   "metadata": {},
   "outputs": [
    {
     "data": {
      "text/plain": [
       "27571"
      ]
     },
     "execution_count": 234,
     "metadata": {},
     "output_type": "execute_result"
    }
   ],
   "source": [
    "len(train_tokens)"
   ]
  },
  {
   "cell_type": "code",
   "execution_count": 235,
   "id": "8fefd104-2d4d-48d0-af0e-aaadc47247cb",
   "metadata": {},
   "outputs": [
    {
     "name": "stdout",
     "output_type": "stream",
     "text": [
      " = Valkyria Chronicles III = \n",
      " Senjō no Valkyria 3 : <unk> Chronicles ( Japanese : 戦場のヴァルキュリア3 , lit . Valkyria of the Battlefield 3 ) , commonly referred to as Valkyria Chronicles III outside Japan , is a tactical role @-@ playing video game developed by Sega and Media.Vision for the PlayStation Portable . Released in January 2011 in Japan , it is the third game in the Valkyria series . Employing the same fusion of tactical and real @-@ time gameplay as its predecessors , the story runs parallel to the first game and follows the \" Nameless \" , a penal military unit serving the nation of Gallia during the Second Europan War who perform secret black operations and are pitted against the Imperial unit \" <unk> Raven \" . \n",
      " The game began development in 2010 , carrying over a large portion of the work done on Valkyria Chronicles II . While it retained the standard features of the series , it also underwent multiple adjustments , such as making the game more forgiving for series newcomers . Character designer <unk> Honjou and composer Hitoshi Sakimoto both returned from previous entries , along with Valkyria Chronicles II director Takeshi Ozawa . A large team of writers handled the script . The game 's opening theme was sung by May 'n . \n",
      " It met with positive sales in Japan , and was praised by both Japanese and western critics . After release , it received downloadable content , along with an expanded edition in November of that year . It was also adapted into manga and an original video animation series . Due to low sales of Valkyria Chronicles II , Valkyria Chronicles III was not localized , but a fan translation compatible with the game 's expanded edition was released in 2014 . Media.Vision would return to the franchise with the development of Valkyria : Azure Revolution for the PlayStation 4 . \n",
      " = = Gameplay = = \n",
      " As with previous <unk> Chronicles games , Valkyria Chronicles III is a tactical role @-@ playing game where players take control of a military unit and take part in missions against enemy forces . Stories are told through comic book @-@ like panels with animated character portraits , with characters speaking partially through voiced speech bubbles and partially through unvoiced text . The player progresses through a series of linear missions , gradually unlocked as maps that can be freely scanned through and replayed as they are unlocked . The route to each story location on the map varies depending on an individual player 's approach : when one option is selected , the other is sealed off to the player . Outside missions , the player characters rest in a camp , where units can be customized and character growth occurs . Alongside the main story missions are character @-@ specific sub missions relating to different squad members . After the game 's completion , additional episodes are unlocked , some of them having a higher difficulty than those found in the rest of the game . There are also love simulation elements related to the game 's two main heroines , although they take a very minor role . \n",
      " The game 's battle system , the <unk> system , is carried over directly from <unk> Chronicles . During missions , players select each unit using a top @-@ down perspective of the battlefield map : once a character is selected , the player moves the character around the battlefield in third @-@ person . A character can only act once per @-@ turn , but characters can be granted multiple turns at the expense of other characters ' turns . Each character has a field and distance of movement limited by their Action Gauge . Up to nine characters can be assigned to a single mission . During gameplay , characters will call out if something happens to them , such as their health points ( HP ) getting low or being knocked out by enemy attacks . Each character has specific \" Potentials \" , skills unique to each character . They are divided into \" Personal Potential \" , which are innate skills that remain unaltered unless otherwise dictated by the story and can either help or impede a character , and \" Battle Potentials \" , which are grown throughout the game and always grant boons to a character . To learn Battle Potentials , each character has a unique \" Masters Table \" , a grid @-@ based skill table that can be used to acquire and link different skills . Characters also have Special Abilities that grant them temporary boosts on the battlefield : Kurt can activate \" Direct Command \" and move around the battlefield without depleting his Action Point gauge , the character <unk> can shift into her \" Valkyria Form \" and become invincible , while Imca can target multiple enemy units with her heavy weapon . \n",
      " Troops are divided into five classes : Scouts , <unk> , Engineers , Lancers and Armored Soldier . Troopers can switch classes by changing their assigned weapon . Changing class does not greatly affect the stats gained while in a previous class . With victory in battle , experience points are awarded to the squad , which are distributed into five different attributes shared by the entire squad , a feature differing from early games ' method of distributing to different unit types . \n",
      " = = Plot = = \n",
      " The game takes place during the Second Europan War . Gallian Army Squad 422 , also known as \" The Nameless \" , are a penal military unit composed of criminals , foreign deserters , and military offenders whose real names are erased from the records and thereon officially referred to by numbers . Ordered by the Gallian military to perform the most dangerous missions that the Regular Army and Militia will not do , they are nevertheless up to the task , exemplified by their motto , <unk> <unk> , meaning \" Always Ready . \" The three main characters are No.7 Kurt Irving , an army officer falsely accused of treason who wishes to redeem himself ; Ace No.1 Imca , a female Darcsen heavy weapons specialist who seeks revenge against the Valkyria who destroyed her home ; and No.13 Riela <unk> , a seemingly jinxed young woman who is unknowingly a descendant of the Valkyria . Together with their fellow squad members , these three are tasked to fight against a mysterious Imperial unit known as Calamity Raven , consisting of mostly Darcsen soldiers . \n",
      " As the Nameless officially do not exist , the upper echelons of the Gallian Army exploit the concept of plausible deniability in order to send them on missions that would otherwise make Gallia lose face in the war . While at times this works to their advantage , such as a successful incursion into Imperial territory , other orders cause certain members of the 422nd great distress . One such member , <unk> , becomes so enraged that he abandons his post and defects into the ranks of Calamity Raven , attached to the ideal of Darcsen independence proposed by their leader , Dahau . At the same time , elements within Gallian Army Command move to erase the Nameless in order to protect their own interests . Hounded by both allies and enemies , and combined with the presence of a traitor within their ranks , the 422nd desperately move to keep themselves alive while at the same time fight to help the Gallian war effort . This continues until the Nameless 's commanding officer , Ramsey Crowe , who had been kept under house arrest , is escorted to the capital city of <unk> in order to present evidence exonerating the weary soldiers and expose the real traitor , the Gallian General that had accused Kurt of Treason . \n",
      " Partly due to these events , and partly due to the major losses in manpower Gallia suffers towards the end of the war with the Empire , the Nameless are offered a formal position as a squad in the Gallian Army rather than serve as an anonymous shadow force . This is short @-@ lived , however , as following Maximilian 's defeat , Dahau and Calamity Raven move to activate an ancient <unk> super weapon within the Empire , kept secret by their benefactor . Without the support of Maximilian or the chance to prove themselves in the war with Gallia , it is Dahau 's last trump card in creating a new Darcsen nation . As an armed Gallian force invading the Empire just following the two nations ' cease @-@ fire would certainly wreck their newfound peace , Kurt decides to once again make his squad the Nameless , asking Crowe to list himself and all under his command as killed @-@ in @-@ action . Now owing allegiance to none other than themselves , the 422nd confronts Dahau and destroys the <unk> weapon . Each member then goes their separate ways in order to begin their lives anew . \n",
      " = = Development = = \n",
      " Concept work for Valkyria Chronicles III began after development finished on Valkyria Chronicles II in early 2010 , with full development beginning shortly after this . The director of Valkyria Chronicles II , Takeshi Ozawa , returned to that role for Valkyria Chronicles III . Development work took approximately one year . After the release of Valkyria Chronicles II , the staff took a look at both the popular response for the game and what they wanted to do next for the series . Like its predecessor , Valkyria Chronicles III was developed for PlayStation Portable : this was due to the team wanting to refine the mechanics created for Valkyria Chronicles II , and they had not come up with the \" revolutionary \" idea that would warrant a new entry for the PlayStation 3 . Speaking in an interview , it was stated that the development team considered Valkyria Chronicles III to be the series ' first true sequel : while Valkyria Chronicles II had required a large amount of trial and error during development due to the platform move , the third game gave them a chance to improve upon the best parts of Valkyria Chronicles II due to being on the same platform . In addition to Sega staff from the previous games , development work was also handled by <unk> The original scenario was written Kazuki Yamanobe , while the script was written by Hiroyuki Fujii , Koichi Majima , <unk> Miyagi , Seiki <unk> and Takayuki <unk> . Its story was darker and more somber than that of its predecessor . \n",
      " The majority of material created for previous games , such as the <unk> system and the design of maps , was carried over . Alongside this , improvements were made to the game 's graphics and some elements were expanded , such as map layouts , mission structure , and the number of playable units per mission . A part of this upgrade involved creating unique polygon models for each character 's body . In order to achieve this , the cooperative elements incorporated into the second game were removed , as they took up a large portion of memory space needed for the improvements . They also adjusted the difficulty settings and ease of play so they could appeal to new players while retaining the essential components of the series ' gameplay . The newer systems were decided upon early in development . The character designs were done by <unk> Honjou , who had worked on the previous Valkyria Chronicles games . When creating the Nameless Squad , Honjou was faced with the same problem he had had during the first game : the military uniforms essentially destroyed character individuality , despite him needing to create unique characters the player could identify while maintaining a sense of reality within the Valkyria Chronicles world . The main color of the Nameless was black . As with the previous Valkyria games , Valkyria Chronicles III used the <unk> graphics engine . The anime opening was produced by Production I.G. \n",
      " = = = Music = = = \n",
      " The music was composed by Hitoshi Sakimoto , who had also worked on the previous Valkyria Chronicles games . When he originally heard about the project , he thought it would be a light tone similar to other Valkyria Chronicles games , but found the themes much darker than expected . An early theme he designed around his original vision of the project was rejected . He <unk> the main theme about seven times through the music production due to this need to reassess the game . The main theme was initially recorded using orchestra , then Sakimoto removed elements such as the guitar and bass , then adjusted the theme using a synthesizer before redoing segments such as the guitar piece on their own before incorporating them into the theme . The rejected main theme was used as a hopeful tune that played during the game 's ending . The battle themes were designed around the concept of a \" modern battle \" divorced from a fantasy scenario by using modern musical instruments , constructed to create a sense of atonality . While Sakimoto was most used to working with synthesized music , he felt that he needed to incorporate live instruments such as orchestra and guitar . The guitar was played by Mitsuhiro Ohta , who also arranged several of the later tracks . The game 's opening theme song , \" If You Wish for ... \" ( <unk> , <unk> Kimi ga <unk> Nara ) , was sung by Japanese singer May 'n . Its theme was the reason soldiers fought , in particular their wish to protect what was precious to them rather than a sense of responsibility or duty . Its lyrics were written by Seiko Fujibayashi , who had worked on May 'n on previous singles . \n",
      " = = = Release = = = \n",
      " In September 2010 , a teaser website was revealed by Sega , hinting at a new Valkyria Chronicles game . In its September issue , Famitsu listed that Senjō no Valkyria 3 would be arriving on the PlayStation Portable . Its first public appearance was at the 2010 Tokyo Game Show ( TGS ) , where a demo was made available for journalists and attendees . During the publicity , story details were kept scant so as not to spoil too much for potential players , along with some of its content still being in flux at the time of its reveal . To promote the game and detail the story leading into the game 's events , an episodic Flash visual novel written by Fujii began release in January 2011 . The game was released January 27 , 2011 . During an interview , the development team said that the game had the capacity for downloadable content ( DLC ) , but that no plans were finalized . Multiple DLC maps , featuring additional missions and recruitable characters , were released between February and April 2011 . An expanded edition of the game , Valkyria Chronicles III Extra Edition , released on November 23 , 2011 . Packaged and sold at a lower price than the original , Extra Edition game with seven additional episodes : three new , three chosen by staff from the game 's DLC , and one made available as a pre @-@ order bonus . People who also owned the original game could transfer their save data between versions . \n",
      " Unlike its two predecessors , Valkyria Chronicles III was not released in the west . According to Sega , this was due to poor sales of Valkyria Chronicles II and the general unpopularity of the PSP in the west . An unofficial fan translation patch began development in February 2012 : players with a copy of Valkyria Chronicles III could download and apply the patch , which translated the game 's text into English . Compatible with the Extra Edition , the patch was released in January 2014 . \n",
      " = = Reception = = \n",
      " On its day of release in Japan , Valkyria Chronicles III topped both platform @-@ exclusive and multi @-@ platform sales charts . By early February , the game sold 102 @,@ 779 units , coming in second overall to The Last Story for the Wii . By the end of the year , the game had sold just over 152 @,@ 500 units . \n",
      " Famitsu enjoyed the story , and were particularly pleased with the improvements to gameplay . Japanese gaming site Game Watch Impress , despite negatively noting its pacing and elements recycled from previous games , was generally positive about its story and characters , and found its gameplay entertaining despite off @-@ putting difficulty spikes . 4Gamer.net writer Naohiko <unk> , in a \" Play Test \" article based on the game 's PSN demo , felt that Valkyria Chronicles III provided a \" profound feeling of closure \" for the Valkyria Chronicles series . He praised its gameplay despite annoying limitations to aspects such as special abilities , and positively noted its shift in story to a tone similar to the first game . \n",
      " PlayStation Official Magazine - UK praised the story 's blurring of Gallia 's moral standing , art style , and most points about its gameplay , positively noting the latter for both its continued quality and the tweaks to balance and content . Its one major criticism were multiple difficulty spikes , something that had affected the previous games . Heath Hindman of gaming website PlayStation Lifestyle praised the addition of non @-@ linear elements and improvements or removal of mechanics from Valkyria Chronicles II in addition to praising the returning gameplay style of previous games . He also positively noted the story 's serious tone . Points criticized in the review were recycled elements , awkward cutscenes that seemed to include all characters in a scene for no good reason , pacing issues , and occasional problems with the game 's AI . \n",
      " In a preview of the TGS demo , Ryan Geddes of IGN was left excited as to where the game would go after completing the demo , along with enjoying the improved visuals over Valkyria Chronicles II . Kotaku 's Richard Eisenbeis was highly positive about the game , citing is story as a return to form after Valkyria Chronicles II and its gameplay being the best in the series . His main criticisms were its length and gameplay repetition , along with expressing regret that it would not be localized . \n",
      " = = Legacy = = \n",
      " Kurt and Riela were featured in the Nintendo 3DS crossover Project X Zone , representing the Valkyria series . Media.Vision would return to the series to develop Valkyria : Azure Revolution , with Ozawa returning as director . Azure Revolution is a role @-@ playing video game for the PlayStation 4 that forms the beginning of a new series within the Valkyria franchise . \n",
      " = = = Adaptations = = = \n",
      " Valkyria Chronicles 3 was adapted into a two @-@ episode original video animation series in the same year of its release . Titled Senjō no Valkyria 3 : Taga Tame no <unk> ( <unk> <unk> , lit . Valkyria of the Battlefield 3 : The Wound Taken for Someone 's Sake ) , it was originally released through PlayStation Network and <unk> between April and May 2011 . The initially @-@ planned release and availability period needed to be extended due to a stoppage to PSN during the early summer of that year . It later released for DVD on June 29 and August 31 , 2011 , with separate \" Black \" and \" Blue \" editions being available for purchase . The anime is set during the latter half of Valkyria Chronicles III , detailing a mission by the Nameless against their Imperial rivals Calamity Raven . The anime was first announced in November 2010 . It was developed by A @-@ 1 Pictures , produced by Shinji <unk> , directed by Nobuhiro Kondō , and written by Hiroshi <unk> . Sakimoto 's music for the game was used in the anime . \n",
      " The anime 's title was inspired by the principle purpose of the Nameless : to suffer in battle for the goals of others . A subtitle attached to the project during development was \" The Road to Kubinka \" , which referenced the Kubinka Tank Museum in Moscow . The game 's main theme was how the characters regained their sense of self when stripped of their names and identities , along with general themes focused on war and its consequences . While making the anime , the production team were told by Sega to make it as realistic as possible , with the consequence that the team did extensive research into aspects such as what happened when vehicles like tanks were overturned or damaged . Due to it being along the same timeline as the original game and its television anime adaptation , the cast of Valkyria Chronicles could make appearances , which pleased the team . The opening theme , \" Akari ( Light ) <unk> \" ( <unk> @-@ <unk> ) , was sung by Japanese singer <unk> . The ending theme , \" Someday the Flowers of Light Will Bloom \" ( <unk> , Itsuka Saku Hikari no Hana ) , was sung by Minami Kuribayashi . Both songs ' lyrics were written by their respective artists . \n",
      " Two manga adaptations were produced , following each of the game 's main female protagonists Imca and Riela . They were Senjō no Valkyria 3 : Namo <unk> <unk> no Hana ( 戦場のヴァルキュリア3 <unk> , lit . Valkyria of the Battlefield 3 : The Flower of the Nameless Oath ) , illustrated by Naoyuki Fujisawa and eventually released in two volumes after being serialized in Dengeki Maoh between 2011 and 2012 ; and Senjō no Valkyria 3 : <unk> Unmei no <unk> <unk> ( 戦場のヴァルキュリア3 <unk> , lit . Valkyria of the Battlefield 3 -The Valkyrie of the Crimson Fate ) , illustrated by Mizuki Tsuge and eventually released in a single volume by Kadokawa Shoten in 2012 . \n",
      "\n"
     ]
    }
   ],
   "source": [
    "print(sp_model.decode(train_tokens[0].tolist()))"
   ]
  },
  {
   "cell_type": "code",
   "execution_count": 236,
   "id": "e254360e-76d3-4153-9e7b-a13a0440b1e1",
   "metadata": {},
   "outputs": [],
   "source": [
    "chunk_size = 1000\n",
    "for chunk_idx, idx in enumerate(range(0, len(train_tokens), chunk_size)):\n",
    "    mx.savez(f'wikitext_data/train/example_chunk{chunk_idx:02d}', *train_tokens[idx:idx+chunk_size])"
   ]
  },
  {
   "cell_type": "code",
   "execution_count": 237,
   "id": "e84eee2b-cfcd-4d83-8d6b-d8dbbe5a6e45",
   "metadata": {},
   "outputs": [
    {
     "data": {
      "text/plain": [
       "27571"
      ]
     },
     "execution_count": 237,
     "metadata": {},
     "output_type": "execute_result"
    }
   ],
   "source": [
    "from pathlib import Path\n",
    "import mlx.core as mx\n",
    "\n",
    "train_data_dir = Path('./wikitext_data/train')\n",
    "train_examples = []\n",
    "\n",
    "for ex_path in sorted(train_data_dir.glob('*.npz')):\n",
    "    train_examples.extend(mx.load(str(ex_path)).values())\n",
    "\n",
    "len(train_examples)"
   ]
  },
  {
   "cell_type": "code",
   "execution_count": 238,
   "id": "063ffe0f-04bf-4c45-bf14-a3479effd876",
   "metadata": {
    "scrolled": true
   },
   "outputs": [
    {
     "data": {
      "text/plain": [
       "' = Lloyd Mathews = \\n Sir Lloyd William Mathews , GCMG , CB ( 7 March 1850 – 11 October 1901 ) was a British naval officer , politician and abolitionist . Mathews joined the Royal Navy as a cadet at the age of 13 and progressed through the ranks to lieutenant . He was involved with the Third Anglo @-@ Ashanti War of 1873 – 4 , afterwards being stationed in East Africa for the suppression of the slave trade . In 1877 he was seconded from the navy to Sultan Barghash of Zanzibar in order to form a European @-@ style army ; he would remain in the employment of the government of Zanzibar for the rest of his life . His army quickly reached 6 @,@ 300 men and was used in several expeditions to suppress the slave trade and rebellions against the Zanzibar government . \\n Mathews retired from the Royal Navy in 1881 and was appointed Brigadier @-@ General of Zanzibar . There followed more expeditions to the African mainland , including a failed attempt to stop German expansion in East Africa . In October 1891 Mathews was appointed First Minister to the Zanzibar government , a position in which he was \" irremovable by the sultan \" . During this time Mathews was a keen abolitionist and promoted this cause to the Sultans he worked with . This resulted in the prohibiting of the slave trade in Zanzibar \\'s dominions in 1890 and the abolition of slavery in 1897 . Mathews was appointed the British Consul @-@ General for East Africa in 1891 but declined to take up the position , remaining in Zanzibar instead . Mathews and his troops also played a key role in the ending of the Anglo @-@ Zanzibar War of 1896 which erupted out of an attempt to bypass the requirement that new Sultans must be vetted by the British consul . During his time as first minister Mathews continued to be involved with the military and was part of two large campaigns , one to Witu and another to Mwele . \\n Mathews was decorated by several governments , receiving appointments as a Companion of the Order of St Michael and St George , Companion of the Order of the Bath and as a Knight Commander of the Order of St Michael and St George from the British government and membership in the Prussian Order of the Crown . Zanzibar also rewarded him and he was a member of the Grand Order of Hamondieh and a first class member of the Order of the Brilliant Star of Zanzibar . Mathews died of malaria in Zanzibar on 11 October 1901 . \\n = = Early life and career = = \\n Mathews was born at Funchal on Madeira on 7 March 1850 . His father , Captain William Matthews was Welsh , and his mother Jane Wallis Penfold , was the daughter of William Penfold and Sarah Gilbert . Her sister , Augusta Jane Robley née Penfold was the author of a famous book about the flora and fauna of Madeira , which is now in the Natural History Museum . Mathews became a cadet of the Royal Navy in 1863 and was appointed a midshipman on 23 September 1866 . From 1868 he was stationed in the Mediterranean but his first active service was during the Third Anglo @-@ Ashanti War of 1873 – 4 where he qualified for the campaign medal . He was promoted to lieutenant on 31 March 1874 . On 27 August 1875 Mathews was posted to HMS London , a depot ship and the Royal Navy headquarters for East Africa , to assist in the suppression of the slave trade in the area . Whilst onboard he drilled his own troops , captured several slave dhows and was commended for his actions by the Admiralty . \\n = = Commander in Chief of Zanzibar = = \\n In August 1877 , Mathews was seconded from the Navy to Sultan Barghash of Zanzibar to form a European @-@ style army which could be used to enforce Zanzibar \\'s control over its mainland possessions . The army had traditionally been composed entirely of Arabs and Persians but Mathews opened up recruitment to the African majority on the island and had 300 recruits in training by the end of the year . In addition , Mathews employed some unorthodox recruitment methods such as purchasing slaves from their masters , using inmates from the prison and recruiting from Africans rescued from the slavers . In June 1877 , at the instigation of John Kirk , the explorer and friend of the Sultan , the British government sent a shipment of 500 modern rifles and ammunition as a gift with which to arm the troops . Mathews introduced a new uniform for the troops consisting of a red cap , short black jackets and white trousers for the enlisted ranks and dark blue frock coats and trousers with gold and silver lace for the Arab officers . The latter was possibly modelled on the Royal Navy officers uniform with which he was familiar . The army grew quickly ; by the 1880s Mathews would command 1 @,@ 300 men , his forces eventually numbering 1 @,@ 000 regulars and 5 @,@ 000 irregulars . \\n One of the first tasks for the new army was to suppress the smuggling of slaves from Pangani on the mainland to the island of Pemba , north of Zanzibar . The troops completed this mission , capturing several slavers and hindering the trade . Mathews retired from the Royal Navy in June 1881 and was appointed Brigadier @-@ General of Zanzibar . In 1880 , the Sultan dispatched a military force under Mathews to bring his unruly African mainland territories under control . Mathews \\' expedition was initially intended to reach <unk> but his men refused to march inland and , when made to do so , deserted in large numbers . The expedition ended instead at <unk> where a 60 @-@ man garrison was established . This had been reduced to a mere handful of men by the mid @-@ 1880s but the expedition proved that the Sultan was serious about maintaining control of all of his possessions . Mathews \\' men were also involved in several expeditions to halt the land @-@ based slave trade which had developed once the seas became too heavily policed for the traders . \\n In 1881 Mathews \\' old vessel , the HMS London , was captained by Charles J Brownrigg . This vessel and her crew made several patrols aimed at hindering the slave trade using smaller steam boats for the actual pursuits and captures . On December 3 , 1881 , they caught up with a slave dhow captained by Hindi bin Hattam . This dhow had around 100 slaves on board and was transporting them between Pemba and Zanzibar . Captain Brownrigg led a boarding party to release the slaves but bin Hattam \\'s men then attacked the sailors , killing Brownrigg and his party before sailing away . Mathews led a force to Wete on Pemba and , after a short battle , took a mortally wounded bin Hattem prisoner before returning to Zanzibar . \\n Mathews returned to the African mainland territories once more in 1884 when he landed with a force which intended to establish further garrisons there to dissuade German territorial claims . This attempt ultimately failed when five German warships steamed into Zanzibar Town harbour and threatened the Sultan into signing away the territories which would later form German East Africa . Further territories were ceded to the German East Africa Company in 1888 but unrest amongst the locals against them prevented them from taking control and Mathews was dispatched with 100 men to restore order . Finding around 8 @,@ 000 people gathered against the German administrators Mathews was forced to return with his men to Zanzibar . He landed once again with more troops but found himself subject to death threats and that his troops would not obey his orders and so returned again to Zanzibar . \\n = = First Minister = = \\n In October 1891 , upon the formation of the first constitutional government in Zanzibar , Mathews was appointed First Minister , despite some hostility from Sultan Ali bin Said . In this capacity Mathews was \" irremovable by the sultan \" and answerable only to the Sultan and the British Consul . His position was so strong that one missionary on the island is quoted as saying that his powers defied \" analytical examination \" and that Mathews really could say \" L \\'état est moi \" ( I am the state ) . Mathews was also known as the \" Strong man of Zanzibar \" . The principal departments of government were mostly run by Britons or British Indians and Mathews \\' approval was required before they could be removed from office . Mathews was rewarded by the Zanzibar government for his role with his appointment as a first class member of the Order of the Brilliant Star of Zanzibar , which he was granted licence by Queen Victoria to accept and wear on 17 May 1886 . Mathews used his position to suppress slavery in the country and in 1889 convinced the Sultan to issue a decree purchasing the freedom of all slaves who had taken refuge in his dominions and , from 1890 , the prohibiting the slave trade . On 1 February 1891 Mathews was appointed Her Majesty \\'s Commissioner and Consul @-@ General to the British Sphere of Influence in East Africa . He never took up the post and instead chose to remain in Zanzibar . \\n Mathews was rewarded for his service in Zanzibar by the British government which appointed him a Companion of the Order of St Michael and St George in 1880 and a Companion of the Order of the Bath on 24 May 1889 . Despite becoming renowned in East Africa as a man who ran a fair administration and was strict with criminals , unhappiness with effective British rule and his halting of the slave trade led some Arabs to petition the Sultan for his removal in 1892 . In 1893 Mathews purchased the island of <unk> for the government . He intended it to be used as a prison but it never housed prisoners and was instead used to quarantine yellow fever cases before its present use as a conservation area for giant tortoises . Mathews was appointed a Knight Commander of the Order of St Michael and St George in 1894 . He was also awarded membership of the Order of the Crown by the German government . \\n Matters came to a head when Khalid bin Barghash attempted to take control of the palace in Zanzibar Town upon the death of his uncle in August 1896 , despite failing to gain the consent of the British consul there . Mathews opposed this succession and , with British agreement , called up 900 soldiers in an attempt to prevent it . This situation eventually led to the Anglo @-@ Zanzibar War and Mathews , with the support of Admiral Harry Rawson and five vessels of the Royal Navy , bombarded the palace and secured the end of Khalid \\'s administration . Mathews \\' helped to arrange the succession of a pro @-@ British Sultan , <unk> bin Mohammed , as Khalid \\'s successor . Mathews continued his reforms after the war , abolishing slavery in 1897 and establishing new farms to grow produce using Western techniques . He was appointed a member of the Grand Order of Hamondieh of Zanzibar and was permitted to accept and wear the decoration on 25 August 1897 . \\n = = Military expeditions = = \\n = = = Mwele = = = \\n In addition to the smaller @-@ scale expeditions described earlier , Mathews embarked on two much larger expeditions to the African mainland during his tenure as first minister , the first at Mwele . The initial rebellion in the area had been led by Mbaruk bin Rashid at Gazi , which Mathews had put down with 1 @,@ 200 men in 1882 . However , in 1895 Mbaruk \\'s nephew , Mbaruk bin Rashid , refused to acknowledge the appointment of a new leader at <unk> . This led to open rebellion at <unk> in February of that year when the younger Mbaruk attacked Zanzibari troops under Arthur Raikes , one of Mathews \\' officers . Mathews was part of an Anglo @-@ Zanzibari expedition sent to quell it , which consisted of 310 British sailors , 50 Royal Marines , 54 Sudanese and 164 Zanzibari troops . <unk> was destroyed and the leaders fled to Gazi where the older Mbaruk failed to turn them over . Another force , under Admiral Rawson , with 400 British marines and sailors , was sent after them . This further expedition failed to capture the ringleaders and a third expedition was organised by Rawson with 220 sailors , 80 marines , 60 Sudanese and 50 Zanzibaris , which destroyed Mwele . During the latter action Mathews was wounded in the shoulder . \\n = = = Witu = = = \\n Following the death of a German logger who had been operating illegally , the Sultan of Zanzibar and the British government dispatched an expedition on 20 October 1890 to bring the Sultan of Witu to justice . Nine warships and three transports carrying 800 sailors and marines , 150 Imperial British East Africa Company ( IBEA ) Indian police , 200 Zanzibari and 50 Sudanese troops were sent , defeating the Sultan and establishing a British protectorate . The IBEA was given control of the area and established a force of 250 Indian police to maintain the peace . The police were withdrawn in July 1893 following threats of violence from the new Sultan of Witu , Oman , and another expedition was dispatched to the region . This consisted of three warships : HMS Blanche , HMS Sparrow and the Zanzibari ship HHS <unk> . The latter carried Mathews with 125 Askaris and 50 Sudanese under Brigadier @-@ General Hatch of the Zanzibar army . \\n Mathews and an escort force went to Witu where , on 31 July , they removed the flag of the IBEA company and replaced it with the red flag of Zanzibar , before destroying several villages and causing Oman to retreat into the forests . The British troops then withdrew , having suffered heavily from malaria , but the Sudanese and Zanzibari troops remained . A further expedition was sent of 140 sailors and 85 other troops but Oman died soon after and a more pliable sultan , Omar bin Hamid , was appointed to govern on behalf of Zanzibar , bringing the affair to a close . In return for this action , Mathews received the British East and West Africa campaign medal . \\n = = Later life = = \\n Mathews died of malaria in Zanzibar on 11 October 1901 and was buried with full military honours in the British cemetery outside Zanzibar Town . His successor as first minister was A.S. Rogers . <unk> island , which Mathews bought for a prison , now has a restaurant named in his honour and also a church . Mathews House , at the Western end of Zanzibar Town , is also named for him . \\n'"
      ]
     },
     "execution_count": 238,
     "metadata": {},
     "output_type": "execute_result"
    }
   ],
   "source": [
    "sp_model.decode(train_examples[0].tolist())"
   ]
  }
 ],
 "metadata": {
  "kernelspec": {
   "display_name": "Python 3 (ipykernel)",
   "language": "python",
   "name": "python3"
  },
  "language_info": {
   "codemirror_mode": {
    "name": "ipython",
    "version": 3
   },
   "file_extension": ".py",
   "mimetype": "text/x-python",
   "name": "python",
   "nbconvert_exporter": "python",
   "pygments_lexer": "ipython3",
   "version": "3.11.6"
  }
 },
 "nbformat": 4,
 "nbformat_minor": 5
}
